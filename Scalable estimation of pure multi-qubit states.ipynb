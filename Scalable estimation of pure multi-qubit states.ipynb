{
 "cells": [
  {
   "cell_type": "markdown",
   "id": "7b6d4e7d",
   "metadata": {},
   "source": [
    "# Scalable estimation of pure multi-qubit states"
   ]
  },
  {
   "cell_type": "markdown",
   "id": "05ed7da1",
   "metadata": {},
   "source": [
    "This notebook shows an example for the paper https://arxiv.org/pdf/2107.05691.pdf. This is a method that estimates a $n$-qubit pure state measuring only $mn+1$ separable bases or $m$ entangled bases plus the computational basis, with $m$ larger or equal than 2. We want to simulate the tomography of a system of $15$ qubits using $4n+1$ separable bases. "
   ]
  },
  {
   "cell_type": "markdown",
   "id": "94f680e3",
   "metadata": {},
   "source": [
    "First, we import the required packages and functions"
   ]
  },
  {
   "cell_type": "code",
   "execution_count": 7,
   "id": "7c046ea3",
   "metadata": {},
   "outputs": [],
   "source": [
    "import numpy as np\n",
    "from core.tresbases_vec import bases_2_3, bases_separables_vec, tomography_vec\n",
    "from core.utils import estado, estado_sep, fidelidad_vec, dot_prod_vec\n",
    "import time"
   ]
  },
  {
   "cell_type": "markdown",
   "id": "1bd165fc",
   "metadata": {},
   "source": [
    "We fix an arbitrary state for a system of $15$ qubits"
   ]
  },
  {
   "cell_type": "code",
   "execution_count": 8,
   "id": "77fde0be",
   "metadata": {},
   "outputs": [],
   "source": [
    "n_qubits = 15\n",
    "dim = int(2**n_qubits)\n",
    "psi_sistema = estado(dim, 1)\n",
    "# this is the number of shots in our experiment.\n",
    "nu_exp = 2**18"
   ]
  },
  {
   "cell_type": "markdown",
   "id": "677db1dd",
   "metadata": {},
   "source": [
    "Now, we select the appropriate bases. In this case, they are $4n +1$ separable bases, that is, we do not need CNOT gates to implement them. "
   ]
  },
  {
   "cell_type": "code",
   "execution_count": 9,
   "id": "9228ddb0",
   "metadata": {},
   "outputs": [],
   "source": [
    "# These are the parameters of the bases\n",
    "v_a = np.array([1/np.sqrt(2), 1/np.sqrt(2), 1/np.sqrt(2), 1/np.sqrt(2)])\n",
    "v_fase = np.array([0, np.pi/2, np.pi/3, np.pi/4])\n",
    "v_b = np.sqrt(1 - v_a**2)\n",
    "n_bases = v_b.shape[0]\n",
    "# These are the bases\n",
    "base_diag_vec, bases_sep_vec = bases_separables_vec(dim, v_a, v_b, v_fase)"
   ]
  },
  {
   "cell_type": "markdown",
   "id": "a609ccb4",
   "metadata": {},
   "source": [
    "We simulate the measurements in our system using nu_exp shots for each base."
   ]
  },
  {
   "cell_type": "code",
   "execution_count": 10,
   "id": "fc40d825",
   "metadata": {},
   "outputs": [
    {
     "name": "stdout",
     "output_type": "stream",
     "text": [
      "time_measurements 0.4868800640106201\n"
     ]
    }
   ],
   "source": [
    "start = time.time()\n",
    "prob_sep_vec = np.zeros((dim, n_qubits, n_bases))\n",
    "prob_diag_vec = fidelidad_vec(psi_sistema, base_diag_vec, nu_exp = nu_exp)\n",
    "for k in range(n_bases):\n",
    "    for j in range(n_qubits):\n",
    "        prob_sep_vec[:, j, k] = fidelidad_vec(psi_sistema,\n",
    "                                              bases_sep_vec[:, :, :, j, k],\n",
    "                                              nu_exp=nu_exp)\n",
    "end = time.time()\n",
    "print(\"time_measurements\", end - start)"
   ]
  },
  {
   "cell_type": "markdown",
   "id": "36b6d9f4",
   "metadata": {},
   "source": [
    "Once we have the histograms with the measurements, we use our method to obtain an estimated quantum state for the system."
   ]
  },
  {
   "cell_type": "code",
   "execution_count": 12,
   "id": "c41fc6e6",
   "metadata": {},
   "outputs": [
    {
     "name": "stdout",
     "output_type": "stream",
     "text": [
      "time_reconstruction 8.32308030128479\n",
      "fidelity [[0.91996115]]\n"
     ]
    }
   ],
   "source": [
    "start = time.time()\n",
    "psi = tomography_vec(prob_diag_vec, prob_sep_vec, bases_sep_vec)\n",
    "end = time.time()\n",
    "print(\"time_reconstruction\", end - start)\n",
    "print(\"fidelity\", np.abs(np.dot(psi_sistema.conj().T, psi))**2)"
   ]
  },
  {
   "cell_type": "markdown",
   "id": "64d01fc8",
   "metadata": {},
   "source": [
    "Since the method is efficient, we can reconstruct a state of $15$ qubits in less than $10$ seconds, with a fidelity grater than $0.9$. "
   ]
  },
  {
   "cell_type": "code",
   "execution_count": null,
   "id": "dd20a634",
   "metadata": {},
   "outputs": [],
   "source": []
  }
 ],
 "metadata": {
  "kernelspec": {
   "display_name": "Python 3 (ipykernel)",
   "language": "python",
   "name": "python3"
  },
  "language_info": {
   "codemirror_mode": {
    "name": "ipython",
    "version": 3
   },
   "file_extension": ".py",
   "mimetype": "text/x-python",
   "name": "python",
   "nbconvert_exporter": "python",
   "pygments_lexer": "ipython3",
   "version": "3.8.12"
  }
 },
 "nbformat": 4,
 "nbformat_minor": 5
}
